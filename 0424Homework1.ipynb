{
 "cells": [
  {
   "cell_type": "code",
   "execution_count": 1,
   "metadata": {},
   "outputs": [
    {
     "name": "stdout",
     "output_type": "stream",
     "text": [
      "請輸入數字：100\n",
      "優秀\n"
     ]
    }
   ],
   "source": [
    "x = int (input('請輸入數字：'))\n",
    "if  x >= 0 and x < 60 :\n",
    "    print ('不及格')\n",
    "elif x >= 60 and x< 80:\n",
    "    print ('及格')\n",
    "elif x >= 80 and x <=100:\n",
    "    print ('優秀')\n",
    "elif  x < 0  :\n",
    "    print ('超過成績範圍')\n",
    "else :\n",
    "    print(' 請勿亂輸入 ')\n",
    "    "
   ]
  },
  {
   "cell_type": "code",
   "execution_count": 2,
   "metadata": {},
   "outputs": [
    {
     "name": "stdout",
     "output_type": "stream",
     "text": [
      "請輸入數字：-1\n",
      "超過成績範圍\n"
     ]
    }
   ],
   "source": [
    "x = int (input('請輸入數字：'))\n",
    "if  x >= 0 and x < 60 :\n",
    "    print ('不及格')\n",
    "elif x >= 60 and x< 80:\n",
    "    print ('及格')\n",
    "elif x >= 80 and x <=100:\n",
    "    print ('優秀')\n",
    "elif  x < 0  :\n",
    "    print ('超過成績範圍')\n",
    "else :\n",
    "    print(' 請勿亂輸入 ')\n",
    "    "
   ]
  },
  {
   "cell_type": "code",
   "execution_count": 3,
   "metadata": {},
   "outputs": [
    {
     "name": "stdout",
     "output_type": "stream",
     "text": [
      "請輸入數字：59\n",
      "不及格\n"
     ]
    }
   ],
   "source": [
    "x = int (input('請輸入數字：'))\n",
    "if  x >= 0 and x < 60 :\n",
    "    print ('不及格')\n",
    "elif x >= 60 and x< 80:\n",
    "    print ('及格')\n",
    "elif x >= 80 and x <=100:\n",
    "    print ('優秀')\n",
    "elif  x < 0  :\n",
    "    print ('超過成績範圍')\n",
    "else :\n",
    "    print(' 請勿亂輸入 ')\n",
    "    "
   ]
  },
  {
   "cell_type": "code",
   "execution_count": 4,
   "metadata": {},
   "outputs": [
    {
     "name": "stdout",
     "output_type": "stream",
     "text": [
      "請輸入數字：62\n",
      "及格\n"
     ]
    }
   ],
   "source": [
    "x = int (input('請輸入數字：'))\n",
    "if  x >= 0 and x < 60 :\n",
    "    print ('不及格')\n",
    "elif x >= 60 and x< 80:\n",
    "    print ('及格')\n",
    "elif x >= 80 and x <=100:\n",
    "    print ('優秀')\n",
    "elif  x < 0  :\n",
    "    print ('超過成績範圍')\n",
    "else :\n",
    "    print(' 請勿亂輸入 ')\n",
    "    "
   ]
  },
  {
   "cell_type": "code",
   "execution_count": null,
   "metadata": {},
   "outputs": [],
   "source": []
  }
 ],
 "metadata": {
  "kernelspec": {
   "display_name": "Python 3",
   "language": "python",
   "name": "python3"
  },
  "language_info": {
   "codemirror_mode": {
    "name": "ipython",
    "version": 3
   },
   "file_extension": ".py",
   "mimetype": "text/x-python",
   "name": "python",
   "nbconvert_exporter": "python",
   "pygments_lexer": "ipython3",
   "version": "3.6.7"
  }
 },
 "nbformat": 4,
 "nbformat_minor": 2
}
