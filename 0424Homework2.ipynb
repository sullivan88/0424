{
 "cells": [
  {
   "cell_type": "code",
   "execution_count": 3,
   "metadata": {},
   "outputs": [
    {
     "name": "stdout",
     "output_type": "stream",
     "text": [
      "請輸入猜的數字：10\n",
      "你猜錯了！！請繼續猜！\n",
      "請輸入猜的數字：8\n",
      "你猜對了\n"
     ]
    }
   ],
   "source": [
    "while True:\n",
    "        num = 8\n",
    "        gnum = int (input('請輸入猜的數字：'))\n",
    "         \n",
    "        if gnum == num:\n",
    "            print ('你猜對了')\n",
    "            break\n",
    "        else:\n",
    "            print('你猜錯了！！請繼續猜！')\n",
    "            continue\n",
    "        "
   ]
  },
  {
   "cell_type": "code",
   "execution_count": null,
   "metadata": {},
   "outputs": [],
   "source": []
  }
 ],
 "metadata": {
  "kernelspec": {
   "display_name": "Python 3",
   "language": "python",
   "name": "python3"
  },
  "language_info": {
   "codemirror_mode": {
    "name": "ipython",
    "version": 3
   },
   "file_extension": ".py",
   "mimetype": "text/x-python",
   "name": "python",
   "nbconvert_exporter": "python",
   "pygments_lexer": "ipython3",
   "version": "3.6.7"
  }
 },
 "nbformat": 4,
 "nbformat_minor": 2
}
